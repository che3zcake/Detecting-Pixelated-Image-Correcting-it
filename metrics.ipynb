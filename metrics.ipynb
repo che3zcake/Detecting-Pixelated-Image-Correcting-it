{
 "cells": [
  {
   "cell_type": "code",
   "execution_count": 23,
   "metadata": {},
   "outputs": [
    {
     "name": "stdout",
     "output_type": "stream",
     "text": [
      "Setting up [LPIPS] perceptual loss: trunk [alex], v[0.1], spatial [off]\n",
      "Loading model from: c:\\Users\\nilot\\AppData\\Local\\Programs\\Python\\Python312\\Lib\\site-packages\\lpips\\weights\\v0.1\\alex.pth\n",
      "PSNR: 26.556410241208855\n",
      "SSIM: 0.7690410796504582\n",
      "LPIPS: 0.30649393796920776\n"
     ]
    }
   ],
   "source": [
    "import torch\n",
    "import torch.nn.functional as F\n",
    "import lpips\n",
    "import numpy as np\n",
    "from skimage.metrics import structural_similarity as ssim\n",
    "from math import log10\n",
    "from PIL import Image\n",
    "import torchvision.transforms as transforms\n",
    "\n",
    "# Initialize LPIPS model\n",
    "loss_fn_alex = lpips.LPIPS(net='alex')\n",
    "\n",
    "def image_to_tensor(image):\n",
    "    transform = transforms.Compose([\n",
    "        transforms.ToTensor()\n",
    "    ])\n",
    "    return transform(image).unsqueeze(0)\n",
    "\n",
    "def resize_images(image1, image2):\n",
    "    min_width = min(image1.width, image2.width)\n",
    "    min_height = min(image1.height, image2.height)\n",
    "    image1_resized = image1.resize((min_width, min_height))\n",
    "    image2_resized = image2.resize((min_width, min_height))\n",
    "    return image1_resized, image2_resized\n",
    "\n",
    "def calculate_psnr(image1, image2):\n",
    "    img1 = image_to_tensor(image1)\n",
    "    img2 = image_to_tensor(image2)\n",
    "    \n",
    "    mse = F.mse_loss(img1, img2)\n",
    "    if mse == 0:\n",
    "        return float('inf')\n",
    "    return 10 * log10(1.0 / mse.item())\n",
    "\n",
    "def calculate_ssim(image1, image2):\n",
    "    img1 = np.array(image1)\n",
    "    img2 = np.array(image2)\n",
    "    \n",
    "    # Ensure win_size is smaller than the smallest dimension of the images\n",
    "    win_size = min(img1.shape[0], img1.shape[1], 7) if min(img1.shape[0], img1.shape[1]) >= 7 else 3\n",
    "\n",
    "    # Calculate SSIM\n",
    "    return ssim(img1, img2, multichannel=True, data_range=img2.max() - img2.min(), win_size=win_size, channel_axis=-1)\n",
    "\n",
    "def calculate_lpips(image1, image2):\n",
    "    img1 = image_to_tensor(image1)\n",
    "    img2 = image_to_tensor(image2)\n",
    "    \n",
    "    # Normalize the images to the range [-1, 1]\n",
    "    img1 = (img1 * 2) - 1\n",
    "    img2 = (img2 * 2) - 1\n",
    "\n",
    "    # Calculate LPIPS\n",
    "    lpips_score = loss_fn_alex(img1, img2)\n",
    "    return lpips_score.item()\n",
    "\n",
    "# Example usage\n",
    "if __name__ == \"__main__\":\n",
    "    # Load images\n",
    "    #\n",
    "    # Load images\n",
    "    high_res_image_path = r'C:\\Users\\nilot\\OneDrive\\Desktop\\IntelAi\\original.png'\n",
    "    super_resolved_image_path = r'C:\\Users\\nilot\\OneDrive\\Desktop\\IntelAi\\resolved_image.jpg'\n",
    "    \n",
    "    img1 = Image.open(high_res_image_path).convert('RGB')\n",
    "    img2 = Image.open(super_resolved_image_path).convert('RGB')\n",
    "    \n",
    "    # Resize images to the same dimensions\n",
    "    img1_resized, img2_resized = resize_images(img1, img2)\n",
    "\n",
    "    psnr_value = calculate_psnr(img1_resized, img2_resized)\n",
    "    print(f\"PSNR: {psnr_value}\")\n",
    "\n",
    "    ssim_value = calculate_ssim(img1_resized, img2_resized)\n",
    "    print(f\"SSIM: {ssim_value}\")\n",
    "\n",
    "    lpips_value = calculate_lpips(img1_resized, img2_resized)\n",
    "    print(f\"LPIPS: {lpips_value}\")\n"
   ]
  },
  {
   "cell_type": "markdown",
   "metadata": {},
   "source": [
    "For FPS metrics refer to the below notebook:\n",
    "https://www.kaggle.com/code/che3zcake/generatormodelfps "
   ]
  }
 ],
 "metadata": {
  "kernelspec": {
   "display_name": "Python 3",
   "language": "python",
   "name": "python3"
  },
  "language_info": {
   "codemirror_mode": {
    "name": "ipython",
    "version": 3
   },
   "file_extension": ".py",
   "mimetype": "text/x-python",
   "name": "python",
   "nbconvert_exporter": "python",
   "pygments_lexer": "ipython3",
   "version": "3.12.4"
  }
 },
 "nbformat": 4,
 "nbformat_minor": 2
}
